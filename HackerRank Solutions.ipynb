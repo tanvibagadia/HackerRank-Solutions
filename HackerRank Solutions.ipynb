{
 "cells": [
  {
   "cell_type": "markdown",
   "id": "c4a621bf",
   "metadata": {},
   "source": [
    "### Q1 : Print Function"
   ]
  },
  {
   "cell_type": "markdown",
   "id": "20d981dc",
   "metadata": {},
   "source": [
    "Without using any string methods, try to print the following:\n",
    "123....n"
   ]
  },
  {
   "cell_type": "code",
   "execution_count": 1,
   "id": "1b1930b8",
   "metadata": {},
   "outputs": [
    {
     "name": "stdout",
     "output_type": "stream",
     "text": [
      "5\n",
      "12345"
     ]
    }
   ],
   "source": [
    "n = int(input())\n",
    "for i in range(n):\n",
    "    print(i+1,end=\"\")"
   ]
  },
  {
   "cell_type": "markdown",
   "id": "212e8501",
   "metadata": {},
   "source": [
    "### Q2 : List Comprehension"
   ]
  },
  {
   "cell_type": "markdown",
   "id": "5831b211",
   "metadata": {},
   "source": [
    "You are given three integers  and  representing the dimensions of a cuboid along with an integer . Print a list of all possible coordinates given by  on a 3D grid where the sum of  is not equal to a given fourth number. Here, . Please use list comprehensions rather than multiple loops, as a learning exercise."
   ]
  },
  {
   "cell_type": "code",
   "execution_count": 6,
   "id": "8faf4321",
   "metadata": {},
   "outputs": [
    {
     "name": "stdout",
     "output_type": "stream",
     "text": [
      "1\n",
      "1\n",
      "1\n",
      "3\n",
      "[[0, 0, 0], [0, 0, 1], [0, 1, 0], [0, 1, 1], [1, 0, 0], [1, 0, 1], [1, 1, 0]]\n"
     ]
    }
   ],
   "source": [
    "x = int(input())\n",
    "y = int(input())\n",
    "z = int(input())\n",
    "n = int(input()) \n",
    "ans = [[i, j, k] for i in range(x + 1) for j in range(y + 1) for k in range(z + 1) if i + j + k != n]\n",
    "print (ans)"
   ]
  },
  {
   "cell_type": "markdown",
   "id": "c1b76f95",
   "metadata": {},
   "source": [
    "### Q3 : Second Largest Score"
   ]
  },
  {
   "cell_type": "markdown",
   "id": "4b7d9bbc",
   "metadata": {},
   "source": [
    "Given the participants' score sheet for your University Sports Day, you are required to find the runner-up score. You are given  scores. Store them in a list and find the score of the runner-up."
   ]
  },
  {
   "cell_type": "markdown",
   "id": "9901770e",
   "metadata": {},
   "source": [
    "So if 4,5,6 are scores, 5 is second highest score, hence runner up score"
   ]
  },
  {
   "cell_type": "code",
   "execution_count": 15,
   "id": "fe2ddcb4",
   "metadata": {},
   "outputs": [
    {
     "name": "stdout",
     "output_type": "stream",
     "text": [
      "4\n",
      "3 1 5 9\n",
      "5\n"
     ]
    }
   ],
   "source": [
    "n = int(input())\n",
    "arr = map(int, input().split())\n",
    "P = list(map(int, arr))\n",
    "Q = set(P)\n",
    "R = sorted(list(Q))\n",
    "print (R[-2])"
   ]
  },
  {
   "cell_type": "markdown",
   "id": "43ed3bf3",
   "metadata": {},
   "source": [
    "### Q4: Nested Lists"
   ]
  },
  {
   "cell_type": "markdown",
   "id": "ea1aca10",
   "metadata": {},
   "source": [
    "Given the names and grades for each student in a class of  students, store them in a nested list and print the name(s) of any student(s) having the second lowest grade.\n",
    "\n",
    "Note: If there are multiple students with the second lowest grade, order their names alphabetically and print each name on a new line."
   ]
  },
  {
   "cell_type": "markdown",
   "id": "2e287333",
   "metadata": {},
   "source": [
    "### Following code doesnt work if marks are say 10,10,11,11, 12 coz we took second highest score to be second element"
   ]
  },
  {
   "cell_type": "code",
   "execution_count": null,
   "id": "1015dca2",
   "metadata": {},
   "outputs": [],
   "source": [
    "marks = []\n",
    "for _ in range(int(input())):\n",
    "    name = input()\n",
    "    score = float(input())\n",
    "    student =[name,score]\n",
    "    marks.append(student)\n",
    "def Sort(sub_li):\n",
    "    # key is set to sort using second element of \n",
    "    # sublist lambda has been used\n",
    "    sub_li.sort(key = lambda x: x[1])\n",
    "    return sub_li\n",
    "marks = Sort(marks)\n",
    "second_lowest_grade = marks[1][1]\n",
    "# loop on ordered names (alpabetically) for students having the second lowest grade:\n",
    "for name in sorted(n for n, g in marks if g == second_lowest_grade):\n",
    "    print(name)"
   ]
  },
  {
   "cell_type": "code",
   "execution_count": 45,
   "id": "2bd9f22c",
   "metadata": {},
   "outputs": [
    {
     "name": "stdout",
     "output_type": "stream",
     "text": [
      "3\n",
      "tanvi\n",
      "34\n",
      "srish \n",
      "12\n",
      "janvi\n",
      "56\n",
      "[['tanvi', 34.0]]\n",
      "tanvi\n"
     ]
    }
   ],
   "source": [
    "marks = []\n",
    "student_name=[]\n",
    "student_score=[]\n",
    "second_lowest_names=[]\n",
    "for _ in range(int(input())):\n",
    "    name = input()\n",
    "    score = float(input())\n",
    "    student =[name,score]\n",
    "    student_name.append(name)\n",
    "    student_score.append(score)\n",
    "    marks.append(student)\n",
    "    \n",
    "def Sort(sub_li):\n",
    "    # key is set to sort using second element of \n",
    "    # sublist lambda has been used\n",
    "    sub_li.sort(key = lambda x: x[1])\n",
    "    return sub_li\n",
    "\n",
    "marks = Sort(marks)\n",
    "\n",
    "count = student_score.count(min(student_score))\n",
    "for i in range(count):\n",
    "    student_score.remove(min(student_score))\n",
    "\n",
    "secondHigh = min(student_score)\n",
    "\n",
    "output = [x for x in marks if x[1] == secondHigh]\n",
    "for i in output:\n",
    "    second_lowest_names.append(i[0])\n",
    "    second_lowest_names.sort()\n",
    "for name in second_lowest_names:\n",
    "    print (name)"
   ]
  },
  {
   "cell_type": "markdown",
   "id": "79c3bdc0",
   "metadata": {},
   "source": [
    "### Q5: Find the percentage"
   ]
  },
  {
   "cell_type": "code",
   "execution_count": 56,
   "id": "fa5601b1",
   "metadata": {},
   "outputs": [
    {
     "name": "stdout",
     "output_type": "stream",
     "text": [
      "3\n",
      "Krishna 67 68 69\n",
      "Arjun 70 98 63\n",
      "Malika 52 56 60\n",
      "Malika\n",
      "56.00\n"
     ]
    }
   ],
   "source": [
    "# number of students\n",
    "n = int(input())\n",
    "student_marks = {}\n",
    "for _ in range(n):\n",
    "    name, *line = input().split()\n",
    "    scores = list(map(float, line))\n",
    "    student_marks[name] = scores\n",
    "query_name = input()\n",
    "query_marks=student_marks[query_name]\n",
    "average = sum(query_marks)/len(query_marks)\n",
    "average=\"{:.2f}\".format(average)\n",
    "print(average)"
   ]
  },
  {
   "cell_type": "markdown",
   "id": "7b010460",
   "metadata": {},
   "source": [
    "### Q6: Validating Roman Numerals"
   ]
  },
  {
   "cell_type": "markdown",
   "id": "6fa6ede8",
   "metadata": {},
   "source": [
    "### Q7: Lists"
   ]
  },
  {
   "cell_type": "markdown",
   "id": "017c9695",
   "metadata": {},
   "source": [
    "Consider a list (list = []). You can perform the following commands:\n",
    "\n",
    "insert i e: Insert integer  at position .\n",
    "print: Print the list.\n",
    "remove e: Delete the first occurrence of integer .\n",
    "append e: Insert integer  at the end of the list.\n",
    "sort: Sort the list.\n",
    "pop: Pop the last element from the list.\n",
    "reverse: Reverse the list.\n",
    "Initialize your list and read in the value of  followed by  lines of commands where each command will be of the  types listed above. Iterate through each command in order and perform the corresponding operation on your list."
   ]
  },
  {
   "cell_type": "code",
   "execution_count": 2,
   "id": "263f0262",
   "metadata": {},
   "outputs": [
    {
     "name": "stdout",
     "output_type": "stream",
     "text": [
      "12\n",
      "insert 0 5\n",
      "insert 1 10\n",
      "insert 0 6\n",
      "print\n",
      "[6, 5, 10]\n",
      "remove 6\n",
      "append 9\n",
      "append 1 \n",
      "sort\n",
      "print\n",
      "[1, 5, 9, 10]\n",
      "pop\n",
      "reverse\n",
      "print\n",
      "[9, 5, 1]\n"
     ]
    }
   ],
   "source": [
    "N = int(input())\n",
    "the_list = list()\n",
    "for cmd in range(N):\n",
    "    input_cmd = input().split()\n",
    "    if input_cmd[0] == 'print':\n",
    "        print(the_list)\n",
    "        \n",
    "    elif input_cmd[0] == 'insert':\n",
    "        the_list.insert(int(input_cmd[1]), int(input_cmd[2]))\n",
    "        \n",
    "    elif input_cmd[0] == 'remove':\n",
    "        the_list.remove(int(input_cmd[1]))\n",
    "        \n",
    "    elif input_cmd[0] == 'append':\n",
    "        the_list.append(int(input_cmd[1]))\n",
    "        \n",
    "    elif input_cmd[0] == 'sort':\n",
    "        the_list = sorted(the_list)\n",
    "            \n",
    "    elif input_cmd[0] == 'pop':\n",
    "        the_list.pop()\n",
    "        \n",
    "    elif input_cmd[0] == 'reverse':\n",
    "        the_list.reverse()"
   ]
  },
  {
   "cell_type": "markdown",
   "id": "89502975",
   "metadata": {},
   "source": [
    "### Q8: Tuples"
   ]
  },
  {
   "cell_type": "markdown",
   "id": "fe7761aa",
   "metadata": {},
   "source": [
    "Given an integer, , and  space-separated integers as input, create a tuple, , of those  integers. Then compute and print the result of hash(t)"
   ]
  },
  {
   "cell_type": "code",
   "execution_count": 18,
   "id": "da95a7e5",
   "metadata": {},
   "outputs": [
    {
     "name": "stdout",
     "output_type": "stream",
     "text": [
      "2\n",
      "1 2\n",
      "-3550055125485641917\n"
     ]
    }
   ],
   "source": [
    "n = int(input())\n",
    "integer_list = map(int,input().split(' '))\n",
    "t = tuple(integer_list)\n",
    "print(hash(t))"
   ]
  },
  {
   "cell_type": "markdown",
   "id": "1ff998a6",
   "metadata": {},
   "source": [
    "### Q9: Swap Case"
   ]
  },
  {
   "cell_type": "markdown",
   "id": "00fad299",
   "metadata": {},
   "source": [
    "hACKERrANK.COM PRESENTS \"pYTHONIST 2\"."
   ]
  },
  {
   "cell_type": "code",
   "execution_count": 7,
   "id": "fd13cc5c",
   "metadata": {},
   "outputs": [
    {
     "name": "stdout",
     "output_type": "stream",
     "text": [
      "Enter wordTaNvI 23\n"
     ]
    },
    {
     "data": {
      "text/plain": [
       "'tAnVi 23'"
      ]
     },
     "execution_count": 7,
     "metadata": {},
     "output_type": "execute_result"
    }
   ],
   "source": [
    "def swapcase(s):\n",
    "    swap=\"\"\n",
    "    for letter in s:\n",
    "        if letter.islower()==True:\n",
    "            swap=swap+letter.upper()\n",
    "        elif letter.isupper()==True:\n",
    "            swap=swap+letter.lower()\n",
    "        else:\n",
    "            swap+=letter\n",
    "    return swap\n",
    "word = input(\"Enter word\")\n",
    "swapcase(word)"
   ]
  },
  {
   "cell_type": "markdown",
   "id": "60664c66",
   "metadata": {},
   "source": [
    "### Q10: String Split and Join"
   ]
  },
  {
   "cell_type": "markdown",
   "id": "2a2bd446",
   "metadata": {},
   "source": [
    "Split the string on a \"\" and join on a '-' . Eg: tanvi bagadia becomes tanvi-bagadia"
   ]
  },
  {
   "cell_type": "code",
   "execution_count": 13,
   "id": "e8d6aee9",
   "metadata": {},
   "outputs": [
    {
     "data": {
      "text/plain": [
       "'this-is-a-string'"
      ]
     },
     "execution_count": 13,
     "metadata": {},
     "output_type": "execute_result"
    }
   ],
   "source": [
    "def split_and_join(line):\n",
    "    split_word = line.split(\" \")\n",
    "    join_word = \"-\".join(split_word)\n",
    "    return join_word\n",
    "split_and_join(\"this is a string\")"
   ]
  },
  {
   "cell_type": "markdown",
   "id": "647b9ecd",
   "metadata": {},
   "source": [
    "### Q11: What's your name?"
   ]
  },
  {
   "cell_type": "markdown",
   "id": "05e220d0",
   "metadata": {},
   "source": [
    "given first name and last name in two different inputs, give line having both in it"
   ]
  },
  {
   "cell_type": "code",
   "execution_count": 15,
   "id": "987665d0",
   "metadata": {},
   "outputs": [
    {
     "name": "stdout",
     "output_type": "stream",
     "text": [
      "Tanvi\n",
      "Bagadia\n",
      "Hello Tanvi Bagadia! You just delved into python\n"
     ]
    }
   ],
   "source": [
    "def print_full_name(first, last):\n",
    "    # Write your code here\n",
    "    print(f\"Hello {first} {last}! You just delved into python\")\n",
    "first_name = input()\n",
    "last_name = input()\n",
    "print_full_name(first_name, last_name)"
   ]
  },
  {
   "cell_type": "code",
   "execution_count": null,
   "id": "935331e2",
   "metadata": {},
   "outputs": [],
   "source": []
  }
 ],
 "metadata": {
  "kernelspec": {
   "display_name": "Python 3",
   "language": "python",
   "name": "python3"
  },
  "language_info": {
   "codemirror_mode": {
    "name": "ipython",
    "version": 3
   },
   "file_extension": ".py",
   "mimetype": "text/x-python",
   "name": "python",
   "nbconvert_exporter": "python",
   "pygments_lexer": "ipython3",
   "version": "3.8.5"
  }
 },
 "nbformat": 4,
 "nbformat_minor": 5
}
